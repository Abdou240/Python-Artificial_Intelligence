{
 "cells": [
  {
   "cell_type": "markdown",
   "id": "80e006ba",
   "metadata": {},
   "source": [
    "# Objective\n",
    "1. Write a Python program to read an entire text file.\n",
    "\n",
    "2. Write a Python program to read first n lines of a file.\n",
    "\n",
    "3. Write a Python program to read last n lines of a file\n",
    "\n",
    "4. Write a Python program that takes a text file as input and returns the number of words of a given text file.\n",
    "\n",
    "5. (bonus) Write a Python program to read last n lines of a file"
   ]
  },
  {
   "cell_type": "code",
   "execution_count": 8,
   "id": "f58c01f6",
   "metadata": {},
   "outputs": [],
   "source": [
    "f = open(\"data/python.txt\")\n",
    "f.read() \n",
    "f.close()"
   ]
  },
  {
   "cell_type": "code",
   "execution_count": 9,
   "id": "254034a2",
   "metadata": {},
   "outputs": [
    {
     "name": "stdout",
     "output_type": "stream",
     "text": [
      "The First: 2\n",
      "What is Python language?\n",
      "Python is a widely used high-level, general-purpose, interpreted, dynamic programming language.Its design philosophy emphasizes code readability, and its syntax allows programmers to express concepts in fewer lines of code than possible in\n"
     ]
    }
   ],
   "source": [
    "#N =2\n",
    "#with open(\"python.txt\") as myfile:\n",
    "#    head = [next(myfile) for x in range(N)]\n",
    "#print(head)\n",
    "\n",
    "N = int(input(\"The First: \")) \n",
    "with open(\"data/python.txt\") as file:  # the a opens it in append mode\n",
    "    for i in range(N):\n",
    "        line = next(file).strip()\n",
    "        print(line)\n",
    "file.close()        "
   ]
  },
  {
   "cell_type": "code",
   "execution_count": 10,
   "id": "f06f8601",
   "metadata": {},
   "outputs": [
    {
     "name": "stdout",
     "output_type": "stream",
     "text": [
      "The Last 5\n",
      "What is Python language?                                                \n",
      "Python is a widely used high-level, general-purpose, interpreted, dynamic programming language.Its design philosophy emphasizes code readability, and its syntax allows programmers to express concepts in fewer lines of code than possible in \n",
      "languages such as C++ or Java. \n",
      "Python supports multiple programming paradigms, including object-oriented, imperative and functional programming or procedural styles. It features a dynamic type system and automatic memory management and has a large and comprehensive standard library.The best way we learn anything is by practice and exercise questions. We  have started this section for those (beginner to intermediate) who are familiar with Python."
     ]
    }
   ],
   "source": [
    "N = int(input(\"The Last \")) \n",
    "with open(\"data/python.txt\") as file:  # the a opens it in append mode\n",
    "    for line in (file.readlines() [-N:]):\n",
    "        print(line, end ='')\n",
    "file.close()         "
   ]
  },
  {
   "cell_type": "code",
   "execution_count": 11,
   "id": "13e47853",
   "metadata": {},
   "outputs": [
    {
     "name": "stdout",
     "output_type": "stream",
     "text": [
      "Total Words: 100\n"
     ]
    }
   ],
   "source": [
    "file = open('data/python.txt', 'r')\n",
    "#read_data = file.read()\n",
    "per_word = file.read().split()\n",
    "print('Total Words:', len(per_word))\n",
    "file.close()"
   ]
  },
  {
   "cell_type": "code",
   "execution_count": 12,
   "id": "9bc20821",
   "metadata": {},
   "outputs": [],
   "source": [
    "with open(\"data/test.txt\",'w',encoding = 'utf-8') as f:\n",
    "   f.write(\"my first file\\n\")\n",
    "   f.write(\"This file\\n\\n\")\n",
    "   f.write(\"contains three lines\\n\")"
   ]
  }
 ],
 "metadata": {
  "kernelspec": {
   "display_name": "Python 3 (ipykernel)",
   "language": "python",
   "name": "python3"
  },
  "language_info": {
   "codemirror_mode": {
    "name": "ipython",
    "version": 3
   },
   "file_extension": ".py",
   "mimetype": "text/x-python",
   "name": "python",
   "nbconvert_exporter": "python",
   "pygments_lexer": "ipython3",
   "version": "3.9.8"
  }
 },
 "nbformat": 4,
 "nbformat_minor": 5
}
