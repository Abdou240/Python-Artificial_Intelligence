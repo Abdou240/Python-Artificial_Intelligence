{
 "cells": [
  {
   "cell_type": "markdown",
   "id": "0a404b94",
   "metadata": {},
   "source": [
    "# Question 1\n",
    "\n",
    "Write a Python function to find the Max of three numbers.\n",
    "\n",
    "for example, the max of these three numbers 20, 35, 19 is 35\n",
    "\n"
   ]
  },
  {
   "cell_type": "code",
   "execution_count": 1,
   "id": "55a40570",
   "metadata": {},
   "outputs": [
    {
     "name": "stdout",
     "output_type": "stream",
     "text": [
      "Give me x: 4\n",
      "Give me y: 3\n",
      "Give me z: 3\n",
      "(4, 3, 3)\n",
      "4\n"
     ]
    }
   ],
   "source": [
    "def max(a,b,c):\n",
    "    if a>=b:\n",
    "        if a>=c:\n",
    "            return a\n",
    "        else:\n",
    "            return c\n",
    "    else:\n",
    "        if b>=c:\n",
    "            return b\n",
    "        else:\n",
    "            return c\n",
    "\n",
    "x = int(input(\"Give me x: \")) \n",
    "y = int(input(\"Give me y: \")) \n",
    "z = int(input(\"Give me z: \")) \n",
    "print((x,y,z))\n",
    "print(max(x,y,z))    "
   ]
  },
  {
   "cell_type": "markdown",
   "id": "d0b2e6f7",
   "metadata": {},
   "source": [
    "# Question 2\n",
    "\n",
    "Write a function calculation() such that it can accept two variables and calculate the addition and subtraction of it. And also it must return both addition and subtraction in a single return call\n",
    "\n",
    "For example:\n",
    "\n",
    "calculation(40, 10) should produce 50, 30\n",
    "\n"
   ]
  },
  {
   "cell_type": "code",
   "execution_count": 2,
   "id": "72451721",
   "metadata": {},
   "outputs": [
    {
     "name": "stdout",
     "output_type": "stream",
     "text": [
      "Give me x: 5\n",
      "Give me y: 3\n",
      "(8, 2)\n"
     ]
    }
   ],
   "source": [
    "def calculation (a,b):\n",
    "    return a+b,a-b\n",
    "x = int(input(\"Give me x: \")) \n",
    "y = int(input(\"Give me y: \")) \n",
    "print(calculation(x,y))"
   ]
  },
  {
   "cell_type": "markdown",
   "id": "7f5ea96e",
   "metadata": {},
   "source": [
    "# Question 3\n",
    "\n",
    "* Write a function that sums the elements of a list of integers.\n",
    "* Write a function that multiplies the elements of an integer list.\n",
    "* Use the two functions to sum the elements whose position is an even number (0,2,4…) and multiply the rest.\n",
    "Hint: Consider extracting two lists from a first list \n",
    "\n"
   ]
  },
  {
   "cell_type": "code",
   "execution_count": 3,
   "id": "170ffe14",
   "metadata": {},
   "outputs": [
    {
     "name": "stdout",
     "output_type": "stream",
     "text": [
      "[1, 3, 5, 7]\n",
      "[2, 4, 6, 8]\n",
      "16\n",
      "384\n"
     ]
    }
   ],
   "source": [
    "def Sum(arr1):\n",
    "    r=0\n",
    "    for i in arr1:\n",
    "        r =r+i\n",
    "    return r\n",
    "\n",
    "def Mult(arr1):\n",
    "    r=1\n",
    "    for i in arr1:\n",
    "        r =r*i\n",
    "    return r\n",
    "List1 =[1,2,3,4]\n",
    "List2 =[5,6,7,8]\n",
    "print(List1[::2] + List2[::2])  # List of even Element both arrays\n",
    "print(List1[1::2] + List2[1::2]) # List of odd Element both arrays\n",
    "print(Sum(List1[::2] + List2[::2]))\n",
    "print(Mult(List1[1::2] + List2[1::2]))"
   ]
  },
  {
   "cell_type": "markdown",
   "id": "4bb655c0",
   "metadata": {},
   "source": [
    "# Question 4\n",
    "\n",
    "Write a Python program that accepts a hyphen-separated sequence of words as input and prints the words in a hyphen-separated sequence after sorting them alphabetically.\n",
    "\n",
    "Sample Items : green-red-yellow-black-white\n",
    "Expected Result : black-green-red-white-yellow\n",
    "\n",
    "Hint : There's a split function to separate your input string into words and a sort function to sort.\n",
    "\n"
   ]
  },
  {
   "cell_type": "code",
   "execution_count": 4,
   "id": "2d098d45",
   "metadata": {},
   "outputs": [
    {
     "name": "stdout",
     "output_type": "stream",
     "text": [
      "['green', 'red', 'yellow', 'black', 'white'] ['black', 'green', 'red', 'white', 'yellow']\n"
     ]
    }
   ],
   "source": [
    "Array= 'green-red-yellow-black-white'\n",
    "b = Array.split('-')\n",
    "print(b, sorted(b))"
   ]
  },
  {
   "cell_type": "markdown",
   "id": "41998aa8",
   "metadata": {},
   "source": [
    "# Question 5 (Bonus)\n",
    "\n",
    "Write a function that calculates and prints the value according to the given formula: Q = Square root of [(2 * C * D)/H] Following are the fixed values of C and H: C is 50. H is 30. D is the variable whose values should be input to your program in a comma-separated sequence. Example Let us assume the following comma separated input sequence is given to the function: 100,150,180 The output of the program should be: 18,22,24 \n",
    "\n",
    "Hints: If the output received is in decimal form, it should be rounded off to its nearest value (for example, if the output received is 26.0, it should be printed as 26) In case of input data being supplied to the question, it should be assumed to be a console input. "
   ]
  },
  {
   "cell_type": "code",
   "execution_count": 5,
   "id": "e0653c02",
   "metadata": {},
   "outputs": [
    {
     "name": "stdout",
     "output_type": "stream",
     "text": [
      "({100: 18, 150: 22, 180: 24}, [18, 22, 24])\n"
     ]
    }
   ],
   "source": [
    "from math import sqrt\n",
    "def calculate(D):\n",
    "    dic ={}\n",
    "    list1=[]\n",
    "    for i in D:\n",
    "        r = int(sqrt((10/3)*i))\n",
    "        list1.append(r)\n",
    "        dic[i] = r\n",
    "        i =+1\n",
    "        n =+1\n",
    "    return dic, list1\n",
    "print(calculate([100,150,180]))"
   ]
  }
 ],
 "metadata": {
  "kernelspec": {
   "display_name": "Python 3 (ipykernel)",
   "language": "python",
   "name": "python3"
  },
  "language_info": {
   "codemirror_mode": {
    "name": "ipython",
    "version": 3
   },
   "file_extension": ".py",
   "mimetype": "text/x-python",
   "name": "python",
   "nbconvert_exporter": "python",
   "pygments_lexer": "ipython3",
   "version": "3.9.8"
  }
 },
 "nbformat": 4,
 "nbformat_minor": 5
}
