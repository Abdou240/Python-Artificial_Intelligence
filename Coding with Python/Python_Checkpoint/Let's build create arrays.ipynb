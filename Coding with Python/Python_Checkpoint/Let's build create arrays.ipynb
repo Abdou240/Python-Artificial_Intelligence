{
 "cells": [
  {
   "cell_type": "markdown",
   "id": "b6fdca48",
   "metadata": {},
   "source": [
    "# Question 1\n",
    "\n",
    "Write a Python program to convert an array to an ordinary list with the same items.\n",
    "\n",
    "we can use the np.tolist() function\n",
    "\n"
   ]
  },
  {
   "cell_type": "code",
   "execution_count": 1,
   "id": "c16cdd25",
   "metadata": {},
   "outputs": [
    {
     "name": "stdout",
     "output_type": "stream",
     "text": [
      "[[1, 2, 3], [4, 5, 6], [7, 8, 9]]\n"
     ]
    }
   ],
   "source": [
    "import numpy as np\n",
    "array= np.array([[1,2,3],[4,5,6],[7,8,9]])\n",
    "list1 = array.tolist()\n",
    "print(list1)"
   ]
  },
  {
   "cell_type": "markdown",
   "id": "7c3216e4",
   "metadata": {},
   "source": [
    "# Question 2 \n",
    "\n",
    "Write a NumPy program to compute the sum of the diagonal elements of a given array.\n",
    "\n",
    "Hint: Two methods to solve this problem: 1. manually(without direct function). 2. using the trace function\n",
    "\n"
   ]
  },
  {
   "cell_type": "code",
   "execution_count": 2,
   "id": "e444cbc1",
   "metadata": {},
   "outputs": [
    {
     "name": "stdout",
     "output_type": "stream",
     "text": [
      "The Sum of the diagonal elements is: 15\n"
     ]
    }
   ],
   "source": [
    "import numpy as np\n",
    "array= np.array([[1,2,3],[4,5,6],[7,8,9]])\n",
    "sum = np.trace(array)\n",
    "print(\"The Sum of the diagonal elements is:\",sum)"
   ]
  },
  {
   "cell_type": "markdown",
   "id": "e9adbf30",
   "metadata": {},
   "source": [
    "# Question 3\n",
    "\n",
    "Given an array of your choice, get all the values higher than X :\n",
    "\n",
    "if a = [[1,2],[3,5]] and x = 2 :  then 3 and 5 are higher than 2. \n",
    "\n"
   ]
  },
  {
   "cell_type": "code",
   "execution_count": 4,
   "id": "44927f28",
   "metadata": {},
   "outputs": [
    {
     "name": "stdout",
     "output_type": "stream",
     "text": [
      "Give a Value x:2\n",
      "[3 4 5 6 7 8 9]\n",
      "3, 4, 5, 6, 7, 8, 9\n"
     ]
    }
   ],
   "source": [
    "import numpy as np\n",
    "array= np.array([[1,2,3],[4,5,6],[7,8,9]])\n",
    "x = int(input(\"Give a Value x:\"))\n",
    "# True/False Array\n",
    "# print(array>x) \n",
    "#print The Result as np.Array\n",
    "print(array[array>x])\n",
    "#print The Result in one Line\n",
    "print(*array[array>x], sep=', ')  "
   ]
  },
  {
   "cell_type": "markdown",
   "id": "a3613883",
   "metadata": {},
   "source": [
    "# Question 4\n",
    "\n",
    "Given two arrays, A & B have the same shape. \n",
    "\n",
    "The task is to apply addition by hand: C is the new array. \n",
    "\n"
   ]
  },
  {
   "cell_type": "code",
   "execution_count": 6,
   "id": "e992edd2",
   "metadata": {},
   "outputs": [
    {
     "name": "stdout",
     "output_type": "stream",
     "text": [
      "Give the number of rows: 5\n",
      "Give the number of columns: 2\n",
      "[[21 16]\n",
      " [14 16]\n",
      " [21 13]\n",
      " [20 13]\n",
      " [12 18]]\n"
     ]
    }
   ],
   "source": [
    "import numpy as np\n",
    "n = int(input(\"Give the number of rows: \")) \n",
    "p = int(input(\"Give the number of columns: \"))\n",
    "A = np.random.randint(2, 10, size=(n,p))\n",
    "B = np.random.randint(9, 17, size=(n,p))\n",
    "C = A + B \n",
    "print(C)"
   ]
  },
  {
   "cell_type": "markdown",
   "id": "c1908e45",
   "metadata": {},
   "source": [
    "# Question 5\n",
    "\n",
    "Write a NumPy program to subtract the mean of each row of a given matrix.\n",
    "\n",
    "Hint: use the mean function\n",
    "\n",
    " "
   ]
  },
  {
   "cell_type": "code",
   "execution_count": 7,
   "id": "1577f0cc",
   "metadata": {},
   "outputs": [
    {
     "name": "stdout",
     "output_type": "stream",
     "text": [
      "[[2.]\n",
      " [5.]\n",
      " [8.]]\n",
      "[2. 5. 8.]\n",
      "[[-1.  0.  1.]\n",
      " [-1.  0.  1.]\n",
      " [-1.  0.  1.]]\n",
      "1.0\n",
      "average_row:  [2. 5. 8.]\n",
      "\n",
      "adapted Array :\n",
      " [[2. 2. 2.]\n",
      " [5. 5. 5.]\n",
      " [8. 8. 8.]]\n",
      "Result: \n",
      " [[-1.  0.  1.]\n",
      " [-1.  0.  1.]\n",
      " [-1.  0.  1.]]\n"
     ]
    }
   ],
   "source": [
    "import numpy as np\n",
    "array= np.array([[1,2,3],[4,5,6],[7,8,9]])\n",
    "#Average Rows\n",
    "average_row = np.mean(array,axis = 1)\n",
    "print(average_row.reshape(3,1))\n",
    "\n",
    "print(average_row.T)\n",
    "print((array.T -average_row).T)\n",
    "a, b = array.shape\n",
    "for i in range (a):\n",
    "    for j in range (b):\n",
    "        R = array[i,j]- average_row[i]\n",
    "print(R)    \n",
    "print(\"average_row: \",average_row)\n",
    "#adapt the row Colomb to subtract mean row\n",
    "ad = (average_row*np.ones((3, 3))).T\n",
    "print(\"\\nadapted Array :\\n\" ,ad)\n",
    "# Array subtract from Average Rows\n",
    "Result = array - ad\n",
    "print(\"Result: \\n\", Result)"
   ]
  }
 ],
 "metadata": {
  "kernelspec": {
   "display_name": "Python 3 (ipykernel)",
   "language": "python",
   "name": "python3"
  },
  "language_info": {
   "codemirror_mode": {
    "name": "ipython",
    "version": 3
   },
   "file_extension": ".py",
   "mimetype": "text/x-python",
   "name": "python",
   "nbconvert_exporter": "python",
   "pygments_lexer": "ipython3",
   "version": "3.9.8"
  }
 },
 "nbformat": 4,
 "nbformat_minor": 5
}
