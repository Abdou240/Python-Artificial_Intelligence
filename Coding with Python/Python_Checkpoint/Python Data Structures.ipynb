{
 "cells": [
  {
   "cell_type": "markdown",
   "id": "92651f05",
   "metadata": {},
   "source": [
    "# Question1: \n",
    "\n",
    "Write a Python program to multiplies all the items in a list.\n",
    "\n",
    "for example list=[2, 3, 6]\n",
    "\n",
    "result = 36\n"
   ]
  },
  {
   "cell_type": "code",
   "execution_count": 1,
   "id": "9456efae",
   "metadata": {
    "scrolled": true
   },
   "outputs": [
    {
     "name": "stdout",
     "output_type": "stream",
     "text": [
      "36\n"
     ]
    }
   ],
   "source": [
    "def multi(List):\n",
    "    result = 1\n",
    "    for i in List:\n",
    "        result = i*result\n",
    "    return result\n",
    "print(multi([2, 3, 6]))"
   ]
  },
  {
   "cell_type": "markdown",
   "id": "aaa92656",
   "metadata": {},
   "source": [
    "\n",
    "# Question2:\n",
    "\n",
    "Write a Python program to get a list, sorted in increasing order by the last element in each tuple from a given list of non-empty tuples.\n",
    "Sample List : [(2, 5), (1, 2), (4, 4), (2, 3), (2, 1)]\n",
    "Expected Result : [(2, 1), (1, 2), (2, 3), (4, 4), (2, 5)]\n",
    "\n",
    "Hint: You can use sort function\n"
   ]
  },
  {
   "cell_type": "code",
   "execution_count": 2,
   "id": "e5268df0",
   "metadata": {},
   "outputs": [
    {
     "name": "stdout",
     "output_type": "stream",
     "text": [
      "[(2, 1), (1, 2), (2, 3), (4, 4), (2, 5)]\n"
     ]
    }
   ],
   "source": [
    "new_list = [(2, 5), (1, 2), (4, 4), (2, 3), (2, 1)] \n",
    "\n",
    "new_list.sort(key=lambda y: y[1])\n",
    "print(new_list)"
   ]
  },
  {
   "cell_type": "markdown",
   "id": "b9afca38",
   "metadata": {},
   "source": [
    "\n",
    "# Question3: \n",
    "\n",
    "Write a Python program to combine two dictionary adding values for common keys.\n",
    "\n",
    "d1 = {'a': 100, 'b': 200, 'c':300}\n",
    "d2 = {'a': 300, 'b': 200, 'd':400}\n",
    "Expected output: {'a': 400, 'b': 400, 'd': 400, 'c': 300}\n"
   ]
  },
  {
   "cell_type": "code",
   "execution_count": 3,
   "id": "624bf60f",
   "metadata": {},
   "outputs": [
    {
     "name": "stdout",
     "output_type": "stream",
     "text": [
      "Counter({'a': 400, 'b': 400, 'd': 400, 'c': 300})\n"
     ]
    }
   ],
   "source": [
    "from collections import Counter\n",
    "d1 = Counter({'a': 100, 'b': 200, 'c':300}) \n",
    "d2 = Counter({'a': 300, 'b': 200, 'd':400})\n",
    "print (d1+d2)"
   ]
  },
  {
   "cell_type": "markdown",
   "id": "ac015fcd",
   "metadata": {},
   "source": [
    "# Question 4\n",
    "\n",
    "With a given integral number n, write a program to generate a dictionary that contains (i, i*i) such that is an integral number between 1 and n (both included). and then the program should print the dictionary. Suppose the following input is supplied to the program: 8 Then, the output should be: {1: 1, 2: 4, 3: 9, 4: 16, 5: 25, 6: 36, 7: 49, 8: 64}\n"
   ]
  },
  {
   "cell_type": "code",
   "execution_count": 5,
   "id": "b92438d2",
   "metadata": {},
   "outputs": [
    {
     "name": "stdout",
     "output_type": "stream",
     "text": [
      "Give me a number n: 2\n",
      "{1: 1, 2: 4}\n"
     ]
    }
   ],
   "source": [
    "n =int(input(\"Give me a number n: \"))\n",
    "arr ={}\n",
    "for i in range(1,n+1):\n",
    "    arr[i]=i**2\n",
    "print(arr)   "
   ]
  },
  {
   "cell_type": "markdown",
   "id": "ca6a02f2",
   "metadata": {},
   "source": [
    "# Question 5: \n",
    "\n",
    "Write a program to sort a tuple by its float element.\n",
    "For example list= [('item1', '12.20'), ('item2', '15.10'), ('item3', '24.5')]\n",
    "Expected Output: [('item3', '24.5'), ('item2', '15.10'), ('item1', '12.20')]"
   ]
  },
  {
   "cell_type": "code",
   "execution_count": 6,
   "id": "ec3c4754",
   "metadata": {},
   "outputs": [
    {
     "name": "stdout",
     "output_type": "stream",
     "text": [
      "[('item3', '24.5'), ('item2', '15.10'), ('item1', '12.20')]\n"
     ]
    }
   ],
   "source": [
    "list= [('item1', '12.20'), ('item2', '15.10'), ('item3', '24.5')] \n",
    "list.sort( reverse=True, key=lambda y: y[1])\n",
    "print(list)"
   ]
  }
 ],
 "metadata": {
  "kernelspec": {
   "display_name": "Python 3 (ipykernel)",
   "language": "python",
   "name": "python3"
  },
  "language_info": {
   "codemirror_mode": {
    "name": "ipython",
    "version": 3
   },
   "file_extension": ".py",
   "mimetype": "text/x-python",
   "name": "python",
   "nbconvert_exporter": "python",
   "pygments_lexer": "ipython3",
   "version": "3.9.8"
  }
 },
 "nbformat": 4,
 "nbformat_minor": 5
}
