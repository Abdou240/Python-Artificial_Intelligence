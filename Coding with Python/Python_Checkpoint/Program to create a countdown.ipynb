{
 "cells": [
  {
   "cell_type": "markdown",
   "id": "617eb954",
   "metadata": {},
   "source": [
    "# Instructions\n",
    "In this project, we will be using the time module and its sleep() function. Follow the below steps to create a countdown timer:\n",
    "\n",
    "1-Import the time module.\n",
    "\n",
    "2-Ask the user to input the length of the countdown in seconds.\n",
    "\n",
    "3-This value is sent as a parameter ‘t’ to the user-defined function countdown(). Any variable read using the input function is a string. So, convert this parameter to ‘int’ as it is of string type.\n",
    "\n",
    "4-In this function, a while loop runs until time becomes 0.\n",
    "\n",
    "5-Use divmod() to calculate the number of minutes and seconds. You can read more about it here.\n",
    "\n",
    "6-Now print the minutes and seconds on the screen using the variable timeformat.\n",
    "\n",
    "7-Using end = ‘\\r’ we force the cursor to go back to the start of the screen (carriage return) so that the next line printed will overwrite the previous one.\n",
    "\n",
    "8-The time.sleep() is used to make the code wait for one sec.\n",
    "\n",
    "9-Now decrement time so that the while loop can converge.\n",
    "\n",
    "10-After the completion of the loop, we will print “Fire in the hole” to signify the end of the countdown."
   ]
  },
  {
   "cell_type": "code",
   "execution_count": null,
   "id": "b46d8d07",
   "metadata": {},
   "outputs": [
    {
     "name": "stdout",
     "output_type": "stream",
     "text": [
      "Input the length of the countdown in seconds: 25\n",
      "00: 00: 16 \r"
     ]
    }
   ],
   "source": [
    "import time\n",
    "r =input(\"Input the length of the countdown in seconds: \")\n",
    "\n",
    "def countdown(t):\n",
    "    while t>0:\n",
    "        n = divmod(t,60) \n",
    "        tm = datetime.time(0, n[0] , n[1])\n",
    "        t -= 1\n",
    "        print(tm.strftime('%H: %M: %S '), end=\"\\r\")\n",
    "        time.sleep(1)\n",
    "    print(\"Fire in the hole\")  \n",
    "countdown(int(r))        "
   ]
  }
 ],
 "metadata": {
  "kernelspec": {
   "display_name": "Python 3 (ipykernel)",
   "language": "python",
   "name": "python3"
  },
  "language_info": {
   "codemirror_mode": {
    "name": "ipython",
    "version": 3
   },
   "file_extension": ".py",
   "mimetype": "text/x-python",
   "name": "python",
   "nbconvert_exporter": "python",
   "pygments_lexer": "ipython3",
   "version": "3.9.8"
  }
 },
 "nbformat": 4,
 "nbformat_minor": 5
}
