{
 "cells": [
  {
   "cell_type": "markdown",
   "id": "11c68480",
   "metadata": {},
   "source": [
    "# Question 1\n",
    "Write a python class named Point3D defined by x, y, and z. Define a method that returns (x, y ,z). This tells Python to represent this object in the following format: (x, y, z). Then create a variable named my_point containing a new instance of Point3D with x=1, y=2, and z=3 and print it.\n"
   ]
  },
  {
   "cell_type": "code",
   "execution_count": 1,
   "id": "a8f97301",
   "metadata": {},
   "outputs": [
    {
     "name": "stdout",
     "output_type": "stream",
     "text": [
      "(1, 2, 3)\n"
     ]
    }
   ],
   "source": [
    "class Point3D:\n",
    "    def __init__(self,x,y,z):\n",
    "        self.x = x\n",
    "        self.y = y\n",
    "        self.z = z\n",
    "    def rueckgabe(self):\n",
    "        return (self.x,self.y,self.z)\n",
    "\n",
    "my_point=Point3D(1,2,3)\n",
    "print(my_point.rueckgabe())"
   ]
  },
  {
   "cell_type": "markdown",
   "id": "c7a62798",
   "metadata": {},
   "source": [
    "# Question 2\n",
    "Write a Python class named Rectangle constructed by a length and width. Define two methods area and perimeter which will compute the area and the perimeter of the rectangle. Then create a variable named my_rectangle containing a new instance of Rectangle with width=3 and length = 4 and compute both of area and perimeter ( the area is expected to be 3*4=12 and perimeter 2*(3+4)=14)\n"
   ]
  },
  {
   "cell_type": "code",
   "execution_count": 2,
   "id": "ef026fd3",
   "metadata": {},
   "outputs": [
    {
     "name": "stdout",
     "output_type": "stream",
     "text": [
      "The area of the Rectangle with a width = 3 and a length = 4 is 12 m2.\n",
      "The perimeter of the Rectangle a the width = 3 and a length = 4 is 14 m.\n"
     ]
    }
   ],
   "source": [
    "class Rectangle:\n",
    "    def __init__(self,width,length):\n",
    "        self.length = length\n",
    "        self.width  = width\n",
    "    def area (self):\n",
    "        return self.length * self.width\n",
    "    def perimeter (self):\n",
    "        return (self.length + self.width) * 2\n",
    "\n",
    "my_rectangle = Rectangle(3,4)\n",
    "print(\"The area of the Rectangle with a width = {} and a length = {} is {} m2.\".format(my_rectangle.width,my_rectangle.length,my_rectangle.area()))\n",
    "print(\"The perimeter of the Rectangle a the width = {} and a length = {} is {} m.\".format(my_rectangle.width,my_rectangle.length,my_rectangle.perimeter()))"
   ]
  },
  {
   "cell_type": "markdown",
   "id": "a480174d",
   "metadata": {},
   "source": [
    "# Question 3\n",
    "Write a Python  class named Circle constructed by its center O and radius r. Define two methods area and perimeter which will compute the area and the perimeter of the circle, and isInside() method of the class which allows to test whether a point A(x, y) belongs to the circle C(O, r) or not."
   ]
  },
  {
   "cell_type": "code",
   "execution_count": 3,
   "id": "8e2e9b94",
   "metadata": {},
   "outputs": [
    {
     "name": "stdout",
     "output_type": "stream",
     "text": [
      "50.26548245743669\n",
      "25.132741228718345\n",
      "Inside\n",
      "Outside\n"
     ]
    }
   ],
   "source": [
    "from math import pi\n",
    "from math import sqrt\n",
    "class Circle:\n",
    "    def __init__(self,O,r):\n",
    "        self.O = O\n",
    "        self.r = r\n",
    "    def area (self):\n",
    "        return pi * self.r ** 2\n",
    "    def perimeter (self):\n",
    "        return pi * 2 * self.r\n",
    "    def isInside(self,x,y):\n",
    "        d = sqrt((x-self.O) ** 2 +(y-self.r) ** 2)\n",
    "        #print(d)\n",
    "        if self.r >= d:\n",
    "            G = \"Inside\"\n",
    "            return G\n",
    "        else:\n",
    "            G = \"Outside\"\n",
    "            return G\n",
    "cir1 = Circle(1,4)\n",
    "cir2 = Circle(3,4)\n",
    "print(cir1.area())\n",
    "print(cir1.perimeter())\n",
    "print(cir1.isInside(1,1))\n",
    "print(cir2.isInside(1,9))\n",
    "\n",
    "# to approve (O,r)/(x,y) as Input"
   ]
  },
  {
   "cell_type": "markdown",
   "id": "627898c6",
   "metadata": {},
   "source": [
    "# Question 4\n",
    "Suppose we want to model a bank account with support for deposit and withdraw operations. Let’s create a python class named bank defined by its balance. Define two methods deposit and withdraw to compute the new amount of each operation."
   ]
  },
  {
   "cell_type": "code",
   "execution_count": 4,
   "id": "d1b7a9db",
   "metadata": {},
   "outputs": [
    {
     "name": "stdout",
     "output_type": "stream",
     "text": [
      "4500\n",
      "4600\n"
     ]
    }
   ],
   "source": [
    "class bank:\n",
    "    def __init__(self,amount):\n",
    "        self.amount = amount\n",
    "    def deposit(self,deposit):\n",
    "        self.amount = self.amount - deposit \n",
    "        return self.amount \n",
    "    def withdraw(self,withdraw):\n",
    "        self.amount = self.amount + withdraw\n",
    "        return self.amount \n",
    "\n",
    "bank1 = bank(5000)\n",
    "print(bank1.deposit(500))\n",
    "print(bank1.withdraw(100))"
   ]
  }
 ],
 "metadata": {
  "kernelspec": {
   "display_name": "Python 3 (ipykernel)",
   "language": "python",
   "name": "python3"
  },
  "language_info": {
   "codemirror_mode": {
    "name": "ipython",
    "version": 3
   },
   "file_extension": ".py",
   "mimetype": "text/x-python",
   "name": "python",
   "nbconvert_exporter": "python",
   "pygments_lexer": "ipython3",
   "version": "3.9.8"
  }
 },
 "nbformat": 4,
 "nbformat_minor": 5
}
