{
 "cells": [
  {
   "cell_type": "markdown",
   "id": "3a91633e",
   "metadata": {},
   "source": [
    "# Question 1\n",
    "\n",
    "Write a program that will find all numbers which are divisible by 7 but are not a multiple of 5, between 2000 and 3200 (both included). The numbers obtained should be printed in a list.\n",
    "\n",
    "Hints: Consider using the range(#begin, #end) method.\n"
   ]
  },
  {
   "cell_type": "code",
   "execution_count": 54,
   "id": "eea491c6",
   "metadata": {},
   "outputs": [
    {
     "name": "stdout",
     "output_type": "stream",
     "text": [
      "[2002, 2009, 2016, 2023, 2037, 2044, 2051, 2058, 2072, 2079, 2086, 2093, 2107, 2114, 2121, 2128, 2142, 2149, 2156, 2163, 2177, 2184, 2191, 2198, 2212, 2219, 2226, 2233, 2247, 2254, 2261, 2268, 2282, 2289, 2296, 2303, 2317, 2324, 2331, 2338, 2352, 2359, 2366, 2373, 2387, 2394, 2401, 2408, 2422, 2429, 2436, 2443, 2457, 2464, 2471, 2478, 2492, 2499, 2506, 2513, 2527, 2534, 2541, 2548, 2562, 2569, 2576, 2583, 2597, 2604, 2611, 2618, 2632, 2639, 2646, 2653, 2667, 2674, 2681, 2688, 2702, 2709, 2716, 2723, 2737, 2744, 2751, 2758, 2772, 2779, 2786, 2793, 2807, 2814, 2821, 2828, 2842, 2849, 2856, 2863, 2877, 2884, 2891, 2898, 2912, 2919, 2926, 2933, 2947, 2954, 2961, 2968, 2982, 2989, 2996]\n"
     ]
    }
   ],
   "source": [
    "# n betwenn 2000 and 3200 both\n",
    "import numpy as np\n",
    "def NUMBER():\n",
    "    arr = []\n",
    "    for n in range(2000,3001,1):\n",
    "        if n%7 ==0:\n",
    "            if n%5 !=0:\n",
    "                arr.append(n)\n",
    "    return list(np.array(arr).T)\n",
    "\n",
    "print(NUMBER())"
   ]
  },
  {
   "cell_type": "markdown",
   "id": "bd0e4a9f",
   "metadata": {},
   "source": [
    "#  Question 2 \n",
    "\n",
    " Write a program that can compute the factorial of a given number. (the factorial of n is the product of all positive integers less than or equal to n). for example factorial(5)= 5 x 4 x 3 x 2 x 1 the result is 120.  (i.e. factorial (0)=1)\n",
    "\n"
   ]
  },
  {
   "cell_type": "code",
   "execution_count": 53,
   "id": "d4242e7b",
   "metadata": {},
   "outputs": [
    {
     "name": "stdout",
     "output_type": "stream",
     "text": [
      "Given Nummer: d\n",
      "The Given Number is not an integer, Please give an integer:\n",
      "Given Nummer: 5\n"
     ]
    },
    {
     "data": {
      "text/plain": [
       "120"
      ]
     },
     "execution_count": 53,
     "metadata": {},
     "output_type": "execute_result"
    }
   ],
   "source": [
    "# compute the factorial of a given number\n",
    "# given Number muss be Positive/ fac(0)=1\n",
    "\n",
    "# factorial Function\n",
    "\n",
    "def fact(n):\n",
    "    if n<0:\n",
    "        return print(\"factorial not possible\")\n",
    "    elif n ==0:\n",
    "        N = 1\n",
    "        return N\n",
    "    else:\n",
    "        N =1\n",
    "        for i in range(1,n+1,1):\n",
    "            N = i*N    \n",
    "    return N\n",
    "\n",
    "\n",
    "\n",
    "# Check if the Input is Int, if not (Char or float) ty again!!\n",
    "def Checkifint():\n",
    "    it_is = False\n",
    "    while it_is == False:\n",
    "        Number = input(\"Given Nummer: \")\n",
    "        \n",
    "        try: \n",
    "            #Check if it's Float \n",
    "            if float(Number) == 0.0:\n",
    "                print()\n",
    "            elif (float(Number) > 0.0 and float(Number) <1.0) or (float(Number) > -1.0  and float(Number) < 0.0):\n",
    "                # produce errors to jump into the except\n",
    "                int(\"produce errors\")\n",
    "            elif  float(Number)% int(float(Number)) != 0 :\n",
    "                # produce errors to jump into the except\n",
    "                int(\"produce errors\")\n",
    "            int(float(Number))\n",
    "            it_is = True\n",
    "        except ValueError :\n",
    "            it_is = False\n",
    "            # try to input an integer\n",
    "            print(\"The Given Number is not an integer, Please give an integer:\")\n",
    "    return int(float(Number))\n",
    "\n",
    "\n",
    "# compute the factorial\n",
    "fact(Checkifint())"
   ]
  },
  {
   "cell_type": "markdown",
   "id": "1f9dcc5f",
   "metadata": {},
   "source": [
    "# Question 3 \n",
    "\n",
    "With a given integer number n, write a program to generate a dictionary that contains (i, i*i) such that is an integral number between 1 and n (both included). and then the program should print the dictionary. Suppose the following input is supplied to the program: 8 Then, the output should be: {1: 1, 2: 4, 3: 9, 4: 16, 5: 25, 6: 36, 7: 49, 8: 64}  \n"
   ]
  },
  {
   "cell_type": "code",
   "execution_count": 55,
   "id": "aa880d98",
   "metadata": {},
   "outputs": [
    {
     "name": "stdout",
     "output_type": "stream",
     "text": [
      "Giv a Nummber: 8\n",
      "{1: 1, 2: 4, 3: 9, 4: 16, 5: 25, 6: 36, 7: 49, 8: 64}\n"
     ]
    }
   ],
   "source": [
    "# input number \n",
    "# compute dict\n",
    "\n",
    "def dict(p):\n",
    "    MyDict = {}\n",
    "    for i in range(1,n+1,1):\n",
    "        MyDict[i] = i*i\n",
    "    return MyDict\n",
    "\n",
    "n = int(input(\"Giv a Nummber: \"))\n",
    "print(dict(n))"
   ]
  },
  {
   "cell_type": "markdown",
   "id": "90fe89ad",
   "metadata": {},
   "source": [
    "# Question 4 \n",
    "\n",
    "Given a non-empty string and an int n, return a new string where the char at index n has been removed. The value of n will be a valid index of a char in the original string (i.e. n will be in the range 0..len(str)-1 inclusive). \n",
    "\n",
    "missing_char('kitten', 1) → 'ktten'    for example here we remove \"i\" which is located in the index 1\n",
    "\n",
    "missing_char('kitten', 0) → 'itten'   here we remove \"k\" which is in the index 0\n",
    "\n",
    "missing_char('kitten', 4) → 'kittn'   here we remove \"e\" which is in the index 4"
   ]
  },
  {
   "cell_type": "code",
   "execution_count": 33,
   "id": "f9a60c6f",
   "metadata": {},
   "outputs": [
    {
     "name": "stdout",
     "output_type": "stream",
     "text": [
      "Give a non/empty String: \n",
      "Give a non/empty String: Hello\n",
      "Give a Valid index n: 19999\n",
      "Invalid Number, Please try again and enter a Valid index: \n",
      "Give a Valid index n: 2\n",
      "Helo\n"
     ]
    }
   ],
   "source": [
    "# Give a non/empty String Str\n",
    "\n",
    "# Str = input(\"Give a non/empty String: \")\n",
    "\n",
    "\n",
    "\n",
    "# Check if Given String Str empty is?\n",
    "\n",
    "def Checkifempty():\n",
    "    Str = \"\"\n",
    "    while not len(Str):\n",
    "        Str = input(\"Give a non/empty String: \")\n",
    "    return Str\n",
    "\n",
    "\n",
    "\n",
    "# Check if input int is ?  + Check if n is a Valid index n of a Char in range 0..len(str)-1 \n",
    "\n",
    "def Checkifint():\n",
    "    it_is = False \n",
    "    while it_is == False:\n",
    "        n = input(\"Give a Valid index n: \")\n",
    "        try:\n",
    "            int(n)\n",
    "            it_is = True\n",
    "            if int(n) >= len(Str) or int(n) < 0 :\n",
    "                print(\"Invalid Number, Please try again and enter a Valid index: \")\n",
    "                 # produce errors to jump into the except\n",
    "                int(\"a\")                 \n",
    "\n",
    "# invalid/if not int, try again \n",
    "\n",
    "        except ValueError : \n",
    "            it_is = False\n",
    "    \n",
    "    return int(n)\n",
    "\n",
    "# Romove char with Index n in a Given String Str \n",
    "\n",
    "Str = Checkifempty()\n",
    "n = Checkifint()\n",
    "\n",
    "Str =Str[:n] + Str[n+1:len(Str)]\n",
    "print(Str)"
   ]
  },
  {
   "cell_type": "markdown",
   "id": "5ace2cb6",
   "metadata": {},
   "source": [
    "# Question 5 \n",
    "\n",
    "Write a NumPy program to convert a NumPy array into a Python list structure.\n",
    "\n",
    "Expected Output: \n",
    "\n",
    "Original array elements: [[0 1] [2 3] [4 5]] \n",
    "\n",
    "Array to list: [[0, 1], [2, 3], [4, 5]] \n",
    " \n",
    "\n",
    "Hint: we can use the to_list() function to ensure the conversion."
   ]
  },
  {
   "cell_type": "code",
   "execution_count": 41,
   "id": "6d0db3ac",
   "metadata": {},
   "outputs": [
    {
     "name": "stdout",
     "output_type": "stream",
     "text": [
      "NumPy Array:\n",
      "[[18 17 14 16]\n",
      " [10 12 17  3]\n",
      " [10 17 14  4]]\n",
      "List: [[18, 17, 14, 16], [10, 12, 17, 3], [10, 17, 14, 4]]\n"
     ]
    }
   ],
   "source": [
    "# convert a NumPy array into a Python list structure\n",
    "import numpy as np\n",
    "\n",
    "arr = np.random.randint(3,19,size=(3,4))\n",
    "print(f'NumPy Array:\\n{arr}')\n",
    "\n",
    "print(f'List: {arr.tolist()}')"
   ]
  },
  {
   "cell_type": "markdown",
   "id": "0b95702b",
   "metadata": {},
   "source": [
    "# Question 6\n",
    "\n",
    "Write a NumPy program to compute the covariance matrix of two given arrays. \n",
    "\n",
    "Original array1: [0 1 2] \n",
    "\n",
    "Original array2: [2 1 0] \n",
    "\n",
    "Covariance matrix of the said arrays: [[ 1. -1.] [-1. 1.]]\n",
    " \n",
    "\n",
    "Hint: We can use the np.cov() function to calculate the covariance between these two arrays"
   ]
  },
  {
   "cell_type": "code",
   "execution_count": 44,
   "id": "c10cb732",
   "metadata": {},
   "outputs": [
    {
     "name": "stdout",
     "output_type": "stream",
     "text": [
      "[[ 1. -1.]\n",
      " [-1.  1.]]\n"
     ]
    }
   ],
   "source": [
    "# compute the covariance matrix of two given arrays.\n",
    "import numpy as np\n",
    "\n",
    "arr1 = np.array([0,1,2])\n",
    "arr2 = np.array([2,1,0])\n",
    "\n",
    "Conv_matrix = np.cov(arr1,arr2)\n",
    "print(Conv_matrix)"
   ]
  },
  {
   "cell_type": "markdown",
   "id": "a9cd2cfa",
   "metadata": {},
   "source": [
    "# Question 7\n",
    "\n",
    "Question: Write a program that calculates and prints the value according to the given formula: Q = Square root of [(2 * C * D)/H] \n",
    "\n",
    "The following are the fixed values of C and H: C is 50. H is 30. \n",
    "\n",
    "D is the variable whose values should be input into your program in a comma-separated sequence. (that means D contains more than value)\n",
    "\n",
    "Example Let's assume the following comma-separated input sequence is given to the program: 100,150,180 The output of the program should be: 18,22,24 \n",
    "\n",
    "To further explain this, we will obtain a result for each value of D:  Q1= Square root of [(2 * C * 100)/H] =18, Q2= Square root of [(2 * C * 150)/H] = 22 and Q3 = Square root of [(2 * C * 180)/H]  = 24\n",
    "\n",
    "Hints: If the output received is in decimal form, it should be rounded off to its nearest value (for example, if the output received is 26.0, it should be printed as 26) In case of input data being supplied to the question, it should be assumed to be a console input."
   ]
  },
  {
   "cell_type": "code",
   "execution_count": 80,
   "id": "028c3455",
   "metadata": {},
   "outputs": [
    {
     "name": "stdout",
     "output_type": "stream",
     "text": [
      "Enter 3 Numbers comma-separated: 100,150,180\n",
      "D:  100,150,180 // D as a tuple:  (100, 150, 180)\n",
      "Q =  18,22,24 // Q as a tuple :  (18, 22, 24)\n"
     ]
    }
   ],
   "source": [
    "# formula: Q = Square root of [(2 * C * D)/H] with C is 50. H is 30\n",
    "# D is the variable in a comma-separated sequence. \n",
    "#The Input D =100,150,180 ,The output of the program should be: 18,22,24  (100,150,180) --> (18,22,24)\n",
    "\n",
    "\n",
    "# Input D as comma-separated --> Output as int(arr)\n",
    "\n",
    "def inputD():\n",
    "    n =input(\"Enter 3 Numbers comma-separated: \")\n",
    "    arr = n.split(\",\")\n",
    "    for i in range(len(arr)):\n",
    "        arr[i] = int(arr[i])\n",
    "    print(\"D: \", n, \"// D as a tuple: \",tuple(arr))    \n",
    "    \n",
    "    return arr\n",
    "\n",
    "\n",
    "# Calculate Q with D as Array as Input\n",
    "\n",
    "def calculate(arr):\n",
    "    import math\n",
    "    C = 50\n",
    "    H = 30\n",
    "    arr2 = ['']\n",
    "    for i in range(0,len(arr)):\n",
    "        arr[i] = int(math.sqrt((2*C*arr[i])/H))\n",
    "        if i< len(arr)-1:\n",
    "            arr2[0] = arr2[0] + str(arr[i]) +\",\"\n",
    "        else:\n",
    "            arr2[0] = arr2[0] + str(arr[i])\n",
    "            \n",
    "    return arr2[0], arr\n",
    "\n",
    "a =calculate(inputD())\n",
    "\n",
    "print(\"Q = \",a[0], \"// Q as a tuple : \",tuple(a[1]))\n"
   ]
  }
 ],
 "metadata": {
  "kernelspec": {
   "display_name": "Python 3 (ipykernel)",
   "language": "python",
   "name": "python3"
  },
  "language_info": {
   "codemirror_mode": {
    "name": "ipython",
    "version": 3
   },
   "file_extension": ".py",
   "mimetype": "text/x-python",
   "name": "python",
   "nbconvert_exporter": "python",
   "pygments_lexer": "ipython3",
   "version": "3.9.12"
  }
 },
 "nbformat": 4,
 "nbformat_minor": 5
}
