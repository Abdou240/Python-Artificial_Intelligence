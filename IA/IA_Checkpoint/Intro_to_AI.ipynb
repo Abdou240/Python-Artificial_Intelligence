{
 "cells": [
  {
   "cell_type": "markdown",
   "id": "5fce7c49",
   "metadata": {},
   "source": [
    "# 1\n",
    "1- Install Python by following the method you prefer (with Anaconda /cmd) according to your operating system(Linux/Windows).\n",
    "\n",
    "2- We suggest you install Anaconda since it's easier for beginners.\n",
    "\n",
    "3- Once you finish the installation, check your Python version using the python --version command\n",
    "\n",
    "4- Now install jupyter notebook (skip this step if you have anaconda installed)\n",
    "\n",
    "5- Open your jupyter notebook (Just go to the anaconda navigator and click on Jupyter Notebook)\n",
    "\n",
    "6- Create a new notebook\n",
    "\n",
    "7- Now in the first cell type: print(\"Welcome to python world! Let's start coding\"), run and see the result.\n",
    "\n",
    "8- Save the notebook and tell us its extension.\n",
    "\n",
    "9- Submit your project"
   ]
  },
  {
   "cell_type": "code",
   "execution_count": 1,
   "id": "1566c58f",
   "metadata": {},
   "outputs": [
    {
     "name": "stdout",
     "output_type": "stream",
     "text": [
      "Welcome to python world! Let's start coding\n"
     ]
    }
   ],
   "source": [
    "print(\"Welcome to python world! Let's start coding\")"
   ]
  },
  {
   "cell_type": "code",
   "execution_count": 2,
   "id": "affd5185",
   "metadata": {},
   "outputs": [
    {
     "name": "stdout",
     "output_type": "stream",
     "text": [
      ".ipynb\n"
     ]
    }
   ],
   "source": [
    "import os\n",
    "\n",
    "# unpacking the tuple\n",
    "file_extension = os.path.splitext(\"/Users/Documents/Project\\Projects\\IA\\IA_Checkpoint/Intro_to_AI.ipynb\")[1]\n",
    "\n",
    "print(file_extension)"
   ]
  }
 ],
 "metadata": {
  "kernelspec": {
   "display_name": "Python 3 (ipykernel)",
   "language": "python",
   "name": "python3"
  },
  "language_info": {
   "codemirror_mode": {
    "name": "ipython",
    "version": 3
   },
   "file_extension": ".py",
   "mimetype": "text/x-python",
   "name": "python",
   "nbconvert_exporter": "python",
   "pygments_lexer": "ipython3",
   "version": "3.9.13"
  }
 },
 "nbformat": 4,
 "nbformat_minor": 5
}
